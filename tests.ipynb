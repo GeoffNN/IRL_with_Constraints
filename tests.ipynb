{
 "cells": [
  {
   "cell_type": "code",
   "execution_count": 6,
   "metadata": {
    "collapsed": true
   },
   "outputs": [
    {
     "name": "stderr",
     "output_type": "stream",
     "text": [
      "/media/geoff/SHARED/MVA/Projects/IRL_with_Constraints/MDP.py:34: VisibleDeprecationWarning: using a non-integer number instead of an integer will result in an error in the future\n  rand_var = rv_discrete(values=(self.states, self.dynamics[state, action]))\n"
     ]
    },
    {
     "data": {
      "image/png": "[encoded data removed]",
      "text/plain": [
       "<matplotlib.figure.Figure at 0x7f1d7e5ad400>"
      ]
     },
     "metadata": {},
     "output_type": "display_data"
    }
   ],
   "source": [
    "from problems import EasyMaze\n",
    "from policy import Policy\n",
    "import numpy as np\n",
    "%matplotlib inline \n",
    "Easy_Maze = EasyMaze()\n",
    "\n",
    "opt_pol_arr = np.zeros(len(Easy_Maze.states))\n",
    "for x in Easy_Maze.states:\n",
    "    j, k = np.unravel_index(x, (Easy_Maze.side, Easy_Maze.side))\n",
    "    if j >= k:\n",
    "        opt_pol_arr[x] = Easy_Maze.right\n",
    "    else:\n",
    "        opt_pol_arr[x] = Easy_Maze.down\n",
    "\n",
    "opt_pol = Policy(opt_pol_arr)\n",
    "\n",
    "traj, rews = Easy_Maze.simulate(0, opt_pol, 1)\n",
    "Easy_Maze.plot_trajectory(traj)"
   ]
  },
  {
   "cell_type": "code",
   "execution_count": null,
   "metadata": {},
   "outputs": [],
   "source": [
    ""
   ]
  }
 ],
 "metadata": {
  "kernelspec": {
   "display_name": "Python 2",
   "language": "python",
   "name": "python2"
  },
  "language_info": {
   "codemirror_mode": {
    "name": "ipython",
    "version": 2.0
   },
   "file_extension": ".py",
   "mimetype": "text/x-python",
   "name": "python",
   "nbconvert_exporter": "python",
   "pygments_lexer": "ipython2",
   "version": "2.7.6"
  }
 },
 "nbformat": 4,
 "nbformat_minor": 0
}